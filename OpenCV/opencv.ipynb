{
 "cells": [
  {
   "cell_type": "code",
   "execution_count": 1,
   "id": "fe4c8a40",
   "metadata": {},
   "outputs": [
    {
     "name": "stdout",
     "output_type": "stream",
     "text": [
      "Requirement already satisfied: opencv-python in c:\\users\\admin\\anaconda3\\lib\\site-packages (4.6.0.66)\n",
      "Requirement already satisfied: numpy>=1.14.5 in c:\\users\\admin\\anaconda3\\lib\\site-packages (from opencv-python) (1.20.3)\n",
      "Note: you may need to restart the kernel to use updated packages.\n"
     ]
    }
   ],
   "source": [
    "pip install opencv-python"
   ]
  },
  {
   "cell_type": "code",
   "execution_count": 3,
   "id": "3bf60346",
   "metadata": {},
   "outputs": [],
   "source": [
    "import cv2\n",
    "import random\n",
    "import pandas as pd\n",
    "import numpy as np"
   ]
  },
  {
   "cell_type": "code",
   "execution_count": 2,
   "id": "080d35e9",
   "metadata": {},
   "outputs": [
    {
     "ename": "error",
     "evalue": "OpenCV(4.6.0) D:\\a\\opencv-python\\opencv-python\\opencv\\modules\\imgproc\\src\\resize.cpp:4052: error: (-215:Assertion failed) !ssize.empty() in function 'cv::resize'\n",
     "output_type": "error",
     "traceback": [
      "\u001b[1;31m---------------------------------------------------------------------------\u001b[0m",
      "\u001b[1;31merror\u001b[0m                                     Traceback (most recent call last)",
      "\u001b[1;32m~\\AppData\\Local\\Temp/ipykernel_10856/2395168607.py\u001b[0m in \u001b[0;36m<module>\u001b[1;34m\u001b[0m\n\u001b[0;32m      3\u001b[0m \u001b[1;33m\u001b[0m\u001b[0m\n\u001b[0;32m      4\u001b[0m \u001b[0mimg\u001b[0m\u001b[1;33m=\u001b[0m\u001b[0mcv2\u001b[0m\u001b[1;33m.\u001b[0m\u001b[0mimread\u001b[0m\u001b[1;33m(\u001b[0m\u001b[1;34m\"logo.jpg\"\u001b[0m\u001b[1;33m,\u001b[0m\u001b[1;36m1\u001b[0m\u001b[1;33m)\u001b[0m\u001b[1;33m\u001b[0m\u001b[1;33m\u001b[0m\u001b[0m\n\u001b[1;32m----> 5\u001b[1;33m \u001b[0mimg\u001b[0m\u001b[1;33m=\u001b[0m\u001b[0mcv2\u001b[0m\u001b[1;33m.\u001b[0m\u001b[0mresize\u001b[0m\u001b[1;33m(\u001b[0m\u001b[0mimg\u001b[0m\u001b[1;33m,\u001b[0m\u001b[1;33m(\u001b[0m\u001b[1;36m450\u001b[0m\u001b[1;33m,\u001b[0m\u001b[1;36m500\u001b[0m\u001b[1;33m)\u001b[0m\u001b[1;33m)\u001b[0m\u001b[1;33m\u001b[0m\u001b[1;33m\u001b[0m\u001b[0m\n\u001b[0m\u001b[0;32m      6\u001b[0m \u001b[1;31m#img = cv2.resize(img, (0, 0), fx=0.75, fy=0.75)\u001b[0m\u001b[1;33m\u001b[0m\u001b[1;33m\u001b[0m\u001b[0m\n\u001b[0;32m      7\u001b[0m \u001b[0mprint\u001b[0m\u001b[1;33m(\u001b[0m\u001b[0mimg\u001b[0m\u001b[1;33m.\u001b[0m\u001b[0mshape\u001b[0m\u001b[1;33m)\u001b[0m\u001b[1;33m\u001b[0m\u001b[1;33m\u001b[0m\u001b[0m\n",
      "\u001b[1;31merror\u001b[0m: OpenCV(4.6.0) D:\\a\\opencv-python\\opencv-python\\opencv\\modules\\imgproc\\src\\resize.cpp:4052: error: (-215:Assertion failed) !ssize.empty() in function 'cv::resize'\n"
     ]
    }
   ],
   "source": [
    "#reading and resizing\n",
    "#-1,0,1 represent different scales\n",
    "\n",
    "img=cv2.imread(\"logo.jpg\",1)\n",
    "img=cv2.resize(img,(450,500))\n",
    "#img = cv2.resize(img, (0, 0), fx=0.75, fy=0.75)\n",
    "print(img.shape)\n",
    "\n",
    "#opening and closing image\n",
    "\n",
    "cv2.imshow(\"one\",img)\n",
    "cv2.waitKey(0)\n",
    "cv2.destroyAllWindows()"
   ]
  },
  {
   "cell_type": "code",
   "execution_count": 11,
   "id": "58eff95b",
   "metadata": {},
   "outputs": [],
   "source": [
    "#rotate\n",
    "\n",
    "img=cv2.rotate(img,cv2.ROTATE_180)\n",
    "cv2.imwrite(\"new.jpg\",img)\n",
    "\n",
    "cv2.imshow(\"one\",img)\n",
    "cv2.waitKey(0)\n",
    "cv2.destroyAllWindows()"
   ]
  },
  {
   "cell_type": "code",
   "execution_count": 36,
   "id": "49ae0ecf",
   "metadata": {},
   "outputs": [
    {
     "name": "stdout",
     "output_type": "stream",
     "text": [
      "(500, 450, 3)\n",
      "\n",
      "500\n",
      "450\n",
      "3\n"
     ]
    }
   ],
   "source": [
    "print(img.shape)\n",
    "print()\n",
    "\n",
    "print(img.shape[0]) #reprents row\n",
    "print(img.shape[1]) #reprents column\n",
    "print(img.shape[2]) #reprents channels\n"
   ]
  },
  {
   "cell_type": "code",
   "execution_count": 34,
   "id": "54bf976f",
   "metadata": {},
   "outputs": [],
   "source": [
    "#manpulating image\n",
    "\n",
    "img=cv2.imread(\"logo.jpg\",1)\n",
    "img=cv2.resize(img,(450,500))\n",
    "\n",
    "for i in range(50,100):\n",
    "    for j in range(img.shape[1]):\n",
    "        img[i,j]=[random.randrange(255),random.randrange(255),random.randrange(255)]\n",
    "\n",
    "        \n",
    "cv2.imshow(\"one\",img)\n",
    "cv2.waitKey(0)\n",
    "cv2.destroyAllWindows()\n"
   ]
  },
  {
   "cell_type": "code",
   "execution_count": 35,
   "id": "fa275f02",
   "metadata": {},
   "outputs": [
    {
     "name": "stdout",
     "output_type": "stream",
     "text": [
      "(500, 450, 3)\n"
     ]
    }
   ],
   "source": [
    "#copy and pasting a part of a image\n",
    "print(img.shape)\n",
    "new=img[50:100,250:300]\n",
    "img[350:400,400:450]=new\n",
    "\n",
    "cv2.imshow(\"one\",img)\n",
    "cv2.waitKey(0)\n",
    "cv2.destroyAllWindows()\n"
   ]
  },
  {
   "cell_type": "code",
   "execution_count": 39,
   "id": "6848e0ef",
   "metadata": {},
   "outputs": [],
   "source": [
    "#Camera \n",
    "\n",
    "cap=cv2.VideoCapture(0) #open camera (0-random cam,1-first cam etc)\n",
    "\n",
    "while True:\n",
    "    \n",
    "    ret,frame=cap.read() #reading frame in cam\n",
    "    cv2.imshow(\"cam\",frame) #showing cam\n",
    "    \n",
    "    if cv2.waitKey(1)==ord(\"v\"): #closing if v(ASCII) value is matched checked every 1 milliseond\n",
    "        break\n",
    "        \n",
    "cap.release() # closing cam\n",
    "cv2.destroyAllWindows() "
   ]
  },
  {
   "cell_type": "code",
   "execution_count": 29,
   "id": "3bfa0848",
   "metadata": {},
   "outputs": [],
   "source": [
    "\n",
    "cap = cv2.VideoCapture(0)\n",
    "\n",
    "while True:\n",
    "    ret, frame = cap.read()\n",
    "    width = int(cap.get(3)) # 3 is identifier for width\n",
    "    height = int(cap.get(4)) # 4 is identifier for height\n",
    "\n",
    "    image = np.zeros(frame.shape, np.uint8)\n",
    "    smaller_frame = cv2.resize(frame, (0, 0), fx=0.5, fy=0.5)\n",
    "    image[:height//2, :width//2] = cv2.rotate(smaller_frame, cv2.ROTATE_180)\n",
    "    image[height//2:, :width//2] = smaller_frame\n",
    "    image[:height//2, width//2:] = cv2.rotate(smaller_frame, cv2.ROTATE_180)\n",
    "    image[height//2:, width//2:] = smaller_frame\n",
    "\n",
    "    cv2.imshow('frame', image)\n",
    "\n",
    "    if cv2.waitKey(1) == ord('q'):\n",
    "        break\n",
    "\n",
    "cap.release()\n",
    "cv2.destroyAllWindows()"
   ]
  },
  {
   "cell_type": "code",
   "execution_count": 41,
   "id": "63925dbf",
   "metadata": {},
   "outputs": [],
   "source": [
    "#line drawing\n",
    "\n",
    "cap = cv2.VideoCapture(0)\n",
    "\n",
    "while True:\n",
    "    ret, frame = cap.read()\n",
    "    width = int(cap.get(3))\n",
    "    height = int(cap.get(4))\n",
    "\n",
    "    cv2.line(frame,(0,0),(width,height),[0,0,255],8)  #line(image,start,end,color,thickness)\n",
    "    \n",
    "    cv2.imshow('camera', frame)\n",
    "\n",
    "    if cv2.waitKey(1) == ord('k'):\n",
    "        break\n",
    "\n",
    "cap.release()\n",
    "cv2.destroyAllWindows()"
   ]
  },
  {
   "cell_type": "code",
   "execution_count": 49,
   "id": "8b6d1a79",
   "metadata": {},
   "outputs": [],
   "source": [
    "#cross line\n",
    "\n",
    "cap = cv2.VideoCapture(0)\n",
    "\n",
    "while True:\n",
    "    ret, frame = cap.read()\n",
    "    width = int(cap.get(3))\n",
    "    height = int(cap.get(4))\n",
    "\n",
    "    lm= cv2.line(frame,(0,0),(width,height),[0,0,255],8)  #line(image,start,end,color,thickness)\n",
    "    lm= cv2.line(frame,(0,height),(width,0),[255,0,255],8)  #anotherline\n",
    "    \n",
    "    cv2.imshow('camera', lm)\n",
    "\n",
    "    if cv2.waitKey(1) == ord('k'):\n",
    "        break\n",
    "\n",
    "cap.release()\n",
    "cv2.destroyAllWindows()"
   ]
  },
  {
   "cell_type": "code",
   "execution_count": 52,
   "id": "a9c6f85b",
   "metadata": {},
   "outputs": [],
   "source": [
    "#Drawing shapes and text\n",
    "\n",
    "cap = cv2.VideoCapture(0)\n",
    "\n",
    "while True:\n",
    "    ret, frame = cap.read()\n",
    "    width = int(cap.get(3))\n",
    "    height = int(cap.get(4))\n",
    "\n",
    "    img = cv2.line(frame, (0, 0), (width, height), (255, 0, 0), 10)\n",
    "    img = cv2.line(img, (0, height), (width, 0), (0, 255, 0), 5)\n",
    "    \n",
    "    img = cv2.rectangle(img, (100, 100), (200, 200), (128, 128, 128), 5) #rectangle(image,start,end,color,thickness)\n",
    "    \n",
    "    img = cv2.circle(img, (300, 300), 60, (0, 0, 255), -1) #circle(image,center,radius,color,thickness(-ve will fill that shape))\n",
    "    \n",
    "    font = cv2.FONT_HERSHEY_SIMPLEX # creating font\n",
    "    \n",
    "    img = cv2.putText(img, 'HELLO', (10, height - 10), font, 4, (0, 0, 0), 5, cv2.LINE_AA) #putText(img,text,center_pos,font,font_scale,color,line_thick,line_type)\n",
    "\n",
    "    cv2.imshow('frame', img)\n",
    "\n",
    "\n",
    "    if cv2.waitKey(1) == ord('k'):\n",
    "        break\n",
    "\n",
    "cap.release()\n",
    "cv2.destroyAllWindows()"
   ]
  },
  {
   "cell_type": "code",
   "execution_count": 18,
   "id": "d2dcdd7c",
   "metadata": {},
   "outputs": [],
   "source": [
    "#HSV, taking out only orange color in camera\n",
    "\n",
    "cap = cv2.VideoCapture(0)\n",
    "\n",
    "while True:\n",
    "    ret, frame = cap.read()\n",
    "   \n",
    "    width = int(cap.get(3))\n",
    "    height = int(cap.get(4))\n",
    "\n",
    "    hsv=cv2.cvtColor(frame,cv2.COLOR_BGR2HSV) #cvColor(img,into_hsv_image)\n",
    "    \n",
    "   \n",
    "    low_blue=np.array([0, 0, 255]) #bound between diff orange\n",
    "    upper_blue=np.array([130, 255, 255])\n",
    "    \n",
    "    mask=cv2.inRange(hsv,low_blue,upper_blue) #to have the color in range (1-true,0-false)\n",
    "    \n",
    "    result=cv2.bitwise_and(frame,frame,mask=mask) #comparing images and giving only the blue color \n",
    "    \n",
    "    cv2.imshow('normal', frame) #normal img\n",
    "    cv2.imshow('frame', result) #only orange shades are highlighte\n",
    "    cv2.imshow('mask', mask) #selected is white and not selected is black\n",
    "    \n",
    "    if cv2.waitKey(1) == ord('k'):\n",
    "        break\n",
    "\n",
    "cap.release()\n",
    "cv2.destroyAllWindows()"
   ]
  },
  {
   "cell_type": "code",
   "execution_count": 15,
   "id": "3fae94a2",
   "metadata": {},
   "outputs": [],
   "source": [
    "#HSV, taking out only orange color in photo\n",
    "\n",
    "#cap = cv2.VideoCapture(0)\n",
    "\n",
    "#ret, frame = cap.read()\n",
    "frame=cv2.imread(\"orange.jpg\")\n",
    "#width = int(cap.get(3))\n",
    "#height = int(cap.get(4))\n",
    "\n",
    "hsv=cv2.cvtColor(frame,cv2.COLOR_BGR2HSV) #cvColor(img,into_hsv_image)\n",
    "    \n",
    "   \n",
    "low_blue=np.array([0, 164, 0]) #bound between diff orange\n",
    "upper_blue=np.array([130, 255, 255])\n",
    "    \n",
    "mask=cv2.inRange(hsv,low_blue,upper_blue) #to have the color in range (1-true,0-false)\n",
    "    \n",
    "result=cv2.bitwise_and(frame,frame,mask=mask) #comparing images and giving only the blue color \n",
    "    \n",
    "cv2.imshow('normal', frame) #normal img\n",
    "cv2.imshow('frame', result) #only orange shades are highlighte\n",
    "cv2.imshow('mask', mask) #selected is white and not selected is black\n",
    "    \n",
    "#if cv2.waitKey(1) == ord('k'):\n",
    "       # break\n",
    "    \n",
    "cv2.waitKey(0) == ord('k')\n",
    "cap.release()\n",
    "cv2.destroyAllWindows()"
   ]
  },
  {
   "cell_type": "code",
   "execution_count": 16,
   "id": "a7294e12",
   "metadata": {},
   "outputs": [],
   "source": [
    "#Corner dectection\n",
    "\n",
    "\n",
    "#goodFeaturesToTrack() is used to track edges in a image\n",
    "\n",
    "import numpy as np\n",
    "import cv2\n",
    "\n",
    "img = cv2.imread('box.jpg')\n",
    "img = cv2.resize(img, (0, 0), fx=0.5, fy=0.5)\n",
    "gray = cv2.cvtColor(img, cv2.COLOR_BGR2GRAY)\n",
    "\n",
    "corners = cv2.goodFeaturesToTrack(gray, 100, 0.01, 10)  #cv2.goodFeaturesToTrack(img,N best,confidence,euclidian distance)\n",
    "corners = np.int0(corners) # float into integers\n",
    "\n",
    "for corner in corners: # to decopose the each array\n",
    "    x, y = corner.ravel() #[[[x],[y]]]= [x,y] decompose  them or flatten them\n",
    "    cv2.circle(img, (x, y), 5, (255, 0, 0), -1) # draw circle at those points\n",
    "\n",
    "for i in range(len(corners)):\n",
    "    for j in range(i + 1, len(corners)):\n",
    "        corner1 = tuple(corners[i][0])\n",
    "        corner2 = tuple(corners[j][0]) #[0] because we didnt ravel in corners\n",
    "        color = tuple(map(lambda x: int(x), np.random.randint(0, 255, size=3))) # random color\n",
    "        cv2.line(img, corner1, corner2, color, 1)\n",
    "\n",
    "cv2.imshow('Frame', img)\n",
    "cv2.waitKey(0)\n",
    "cv2.destroyAllWindows()"
   ]
  },
  {
   "cell_type": "code",
   "execution_count": 10,
   "id": "fffb4814",
   "metadata": {},
   "outputs": [],
   "source": [
    "# image detection\n",
    "\n",
    "import numpy as np\n",
    "import cv2\n",
    "\n",
    "img = cv2.resize(cv2.imread('gloco.jpg',0), (0, 0), fx=0.8, fy=0.8) #img\n",
    "template = cv2.resize(cv2.imread('gp.jpg',0), (0, 0), fx=0.8, fy=0.8) #part to be searched in img \n",
    "h, w = template.shape\n",
    "\n",
    "methods = [cv2.TM_CCOEFF, cv2.TM_CCOEFF_NORMED, cv2.TM_CCORR, # diff methods to find each with different accuracy\n",
    "            cv2.TM_CCORR_NORMED, cv2.TM_SQDIFF, cv2.TM_SQDIFF_NORMED]\n",
    "\n",
    "for method in methods:\n",
    "    img2 = img.copy()\n",
    "\n",
    "    result = cv2.matchTemplate(img2, template, method)\n",
    "    min_val, max_val, min_loc, max_loc = cv2.minMaxLoc(result) # we get location of matching that part (USE VIDEO #7 part)\n",
    "    if method in [cv2.TM_SQDIFF, cv2.TM_SQDIFF_NORMED]: # this method take min value\n",
    "        location = min_loc\n",
    "    else:\n",
    "        location = max_loc  # all other of this method take max value\n",
    "\n",
    "    bottom_right = (location[0] + w, location[1] + h)    \n",
    "    cv2.rectangle(img2, location, bottom_right, 255, 5)\n",
    "    cv2.imshow('Match', img2)\n",
    "    cv2.waitKey(0)\n",
    "    cv2.destroyAllWindows()"
   ]
  },
  {
   "cell_type": "code",
   "execution_count": 5,
   "id": "9edd1253",
   "metadata": {},
   "outputs": [],
   "source": [
    "# Face detection using camera refer video #8\n",
    "\n",
    "import numpy as np\n",
    "import cv2\n",
    "\n",
    "cap = cv2.VideoCapture(0)  #haarcascades is a pre-trained classifer\n",
    "face_cascade = cv2.CascadeClassifier(cv2.data.haarcascades + 'haarcascade_frontalface_default.xml') #for face Cascade\n",
    "eye_cascade = cv2.CascadeClassifier(cv2.data.haarcascades + 'haarcascade_eye.xml') #for eye Cascade\n",
    "\n",
    "while True:\n",
    "    ret, frame = cap.read()\n",
    "\n",
    "    gray = cv2.cvtColor(frame, cv2.COLOR_BGR2GRAY)\n",
    "    faces = face_cascade.detectMultiScale(gray, 1.3, 3) #  returns rectangle\n",
    "    \n",
    "    for (x, y, w, h) in faces:\n",
    "        cv2.rectangle(frame, (x, y), (x + w, y + h), (255, 0, 0), 5)\n",
    "        roi_gray = gray[y:y+w, x:x+w]\n",
    "        roi_color = frame[y:y+h, x:x+w]\n",
    "        eyes = eye_cascade.detectMultiScale(roi_gray, 1.3, 3)\n",
    "        for (ex, ey, ew, eh) in eyes:\n",
    "            cv2.rectangle(roi_color, (ex, ey), (ex + ew, ey + eh), (0, 255, 0), 5)\n",
    "\n",
    "    cv2.imshow('frame', frame)\n",
    "\n",
    "    if cv2.waitKey(1) == ord('q'):\n",
    "        break\n",
    "\n",
    "cap.release()\n",
    "cv2.destroyAllWindows()"
   ]
  }
 ],
 "metadata": {
  "kernelspec": {
   "display_name": "Python 3 (ipykernel)",
   "language": "python",
   "name": "python3"
  },
  "language_info": {
   "codemirror_mode": {
    "name": "ipython",
    "version": 3
   },
   "file_extension": ".py",
   "mimetype": "text/x-python",
   "name": "python",
   "nbconvert_exporter": "python",
   "pygments_lexer": "ipython3",
   "version": "3.9.7"
  },
  "varInspector": {
   "cols": {
    "lenName": 16,
    "lenType": 16,
    "lenVar": 40
   },
   "kernels_config": {
    "python": {
     "delete_cmd_postfix": "",
     "delete_cmd_prefix": "del ",
     "library": "var_list.py",
     "varRefreshCmd": "print(var_dic_list())"
    },
    "r": {
     "delete_cmd_postfix": ") ",
     "delete_cmd_prefix": "rm(",
     "library": "var_list.r",
     "varRefreshCmd": "cat(var_dic_list()) "
    }
   },
   "types_to_exclude": [
    "module",
    "function",
    "builtin_function_or_method",
    "instance",
    "_Feature"
   ],
   "window_display": false
  }
 },
 "nbformat": 4,
 "nbformat_minor": 5
}
